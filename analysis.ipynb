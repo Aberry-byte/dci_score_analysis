{
 "cells": [
  {
   "cell_type": "code",
   "execution_count": 2,
   "metadata": {},
   "outputs": [],
   "source": [
    "import pandas as pd\n",
    "from matplotlib import pyplot as plot"
   ]
  },
  {
   "cell_type": "markdown",
   "metadata": {},
   "source": [
    "DCI Scores analysis 2016-2023"
   ]
  },
  {
   "cell_type": "code",
   "execution_count": 3,
   "metadata": {},
   "outputs": [],
   "source": [
    "df = pd.read_csv(\"scores.csv\")"
   ]
  },
  {
   "cell_type": "code",
   "execution_count": 8,
   "metadata": {},
   "outputs": [],
   "source": [
    "year_groups = df.groupby([\"year\"], as_index=False)\n",
    "median_scores_by_year = year_groups[\"score\"].median()\n",
    "mean_score_by_year = year_groups[\"score\"].mean()"
   ]
  },
  {
   "cell_type": "code",
   "execution_count": 15,
   "metadata": {},
   "outputs": [
    {
     "data": {
      "text/plain": [
       "<matplotlib.legend.Legend at 0x16881dd50>"
      ]
     },
     "execution_count": 15,
     "metadata": {},
     "output_type": "execute_result"
    },
    {
     "data": {
      "image/png": "[encoded data removed]",
      "text/plain": [
       "<Figure size 640x480 with 1 Axes>"
      ]
     },
     "metadata": {},
     "output_type": "display_data"
    }
   ],
   "source": [
    "plot.scatter(median_scores_by_year[\"year\"], median_scores_by_year[\"score\"], label=\"median\")\n",
    "plot.scatter(mean_score_by_year[\"year\"], mean_score_by_year[\"score\"], c=\"red\", label=\"mean\")\n",
    "plot.legend()"
   ]
  },
  {
   "cell_type": "code",
   "execution_count": 19,
   "metadata": {},
   "outputs": [
    {
     "data": {
      "text/html": [
       "<div>\n",
       "<style scoped>\n",
       "    .dataframe tbody tr th:only-of-type {\n",
       "        vertical-align: middle;\n",
       "    }\n",
       "\n",
       "    .dataframe tbody tr th {\n",
       "        vertical-align: top;\n",
       "    }\n",
       "\n",
       "    .dataframe thead th {\n",
       "        text-align: right;\n",
       "    }\n",
       "</style>\n",
       "<table border=\"1\" class=\"dataframe\">\n",
       "  <thead>\n",
       "    <tr style=\"text-align: right;\">\n",
       "      <th></th>\n",
       "      <th></th>\n",
       "      <th>year</th>\n",
       "      <th>corps_name</th>\n",
       "      <th>rank</th>\n",
       "      <th>score</th>\n",
       "    </tr>\n",
       "  </thead>\n",
       "  <tbody>\n",
       "    <tr>\n",
       "      <th rowspan=\"5\" valign=\"top\">0</th>\n",
       "      <th>0</th>\n",
       "      <td>2013</td>\n",
       "      <td>Carolina Crown</td>\n",
       "      <td>1</td>\n",
       "      <td>98.300</td>\n",
       "    </tr>\n",
       "    <tr>\n",
       "      <th>1</th>\n",
       "      <td>2013</td>\n",
       "      <td>Blue Devils</td>\n",
       "      <td>2</td>\n",
       "      <td>98.050</td>\n",
       "    </tr>\n",
       "    <tr>\n",
       "      <th>2</th>\n",
       "      <td>2013</td>\n",
       "      <td>The Cadets</td>\n",
       "      <td>3</td>\n",
       "      <td>96.950</td>\n",
       "    </tr>\n",
       "    <tr>\n",
       "      <th>3</th>\n",
       "      <td>2013</td>\n",
       "      <td>Santa Clara Vanguard</td>\n",
       "      <td>4</td>\n",
       "      <td>96.850</td>\n",
       "    </tr>\n",
       "    <tr>\n",
       "      <th>4</th>\n",
       "      <td>2013</td>\n",
       "      <td>Bluecoats</td>\n",
       "      <td>5</td>\n",
       "      <td>93.350</td>\n",
       "    </tr>\n",
       "    <tr>\n",
       "      <th>...</th>\n",
       "      <th>...</th>\n",
       "      <td>...</td>\n",
       "      <td>...</td>\n",
       "      <td>...</td>\n",
       "      <td>...</td>\n",
       "    </tr>\n",
       "    <tr>\n",
       "      <th rowspan=\"5\" valign=\"top\">8</th>\n",
       "      <th>103</th>\n",
       "      <td>2023</td>\n",
       "      <td>The Cavaliers</td>\n",
       "      <td>8</td>\n",
       "      <td>92.125</td>\n",
       "    </tr>\n",
       "    <tr>\n",
       "      <th>104</th>\n",
       "      <td>2023</td>\n",
       "      <td>Colts</td>\n",
       "      <td>9</td>\n",
       "      <td>90.263</td>\n",
       "    </tr>\n",
       "    <tr>\n",
       "      <th>105</th>\n",
       "      <td>2023</td>\n",
       "      <td>Troopers</td>\n",
       "      <td>10</td>\n",
       "      <td>89.475</td>\n",
       "    </tr>\n",
       "    <tr>\n",
       "      <th>106</th>\n",
       "      <td>2023</td>\n",
       "      <td>Blue Stars</td>\n",
       "      <td>11</td>\n",
       "      <td>88.625</td>\n",
       "    </tr>\n",
       "    <tr>\n",
       "      <th>107</th>\n",
       "      <td>2023</td>\n",
       "      <td>Blue Knights</td>\n",
       "      <td>12</td>\n",
       "      <td>86.375</td>\n",
       "    </tr>\n",
       "  </tbody>\n",
       "</table>\n",
       "<p>108 rows × 4 columns</p>\n",
       "</div>"
      ],
      "text/plain": [
       "       year            corps_name  rank   score\n",
       "0 0    2013        Carolina Crown     1  98.300\n",
       "  1    2013           Blue Devils     2  98.050\n",
       "  2    2013            The Cadets     3  96.950\n",
       "  3    2013  Santa Clara Vanguard     4  96.850\n",
       "  4    2013             Bluecoats     5  93.350\n",
       "...     ...                   ...   ...     ...\n",
       "8 103  2023         The Cavaliers     8  92.125\n",
       "  104  2023                 Colts     9  90.263\n",
       "  105  2023              Troopers    10  89.475\n",
       "  106  2023            Blue Stars    11  88.625\n",
       "  107  2023          Blue Knights    12  86.375\n",
       "\n",
       "[108 rows x 4 columns]"
      ]
     },
     "execution_count": 19,
     "metadata": {},
     "output_type": "execute_result"
    }
   ],
   "source": [
    "year_groups.apply(lambda x: x)"
   ]
  }
 ],
 "metadata": {
  "kernelspec": {
   "display_name": "WhatIf",
   "language": "python",
   "name": "python3"
  },
  "language_info": {
   "codemirror_mode": {
    "name": "ipython",
    "version": 3
   },
   "file_extension": ".py",
   "mimetype": "text/x-python",
   "name": "python",
   "nbconvert_exporter": "python",
   "pygments_lexer": "ipython3",
   "version": "3.11.3"
  },
  "orig_nbformat": 4
 },
 "nbformat": 4,
 "nbformat_minor": 2
}
